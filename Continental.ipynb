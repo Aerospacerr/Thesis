{
  "nbformat": 4,
  "nbformat_minor": 0,
  "metadata": {
    "colab": {
      "provenance": [],
      "mount_file_id": "1w4odzSS5YWuORJxcvU5ECs-vca411mO3",
      "authorship_tag": "ABX9TyOBnvzrilkyYoVfRJ5w957f",
      "include_colab_link": true
    },
    "kernelspec": {
      "name": "python3",
      "display_name": "Python 3"
    },
    "language_info": {
      "name": "python"
    }
  },
  "cells": [
    {
      "cell_type": "markdown",
      "metadata": {
        "id": "view-in-github",
        "colab_type": "text"
      },
      "source": [
        "<a href=\"https://colab.research.google.com/github/Aerospacerr/Thesis/blob/main/Continental.ipynb\" target=\"_parent\"><img src=\"https://colab.research.google.com/assets/colab-badge.svg\" alt=\"Open In Colab\"/></a>"
      ]
    },
    {
      "cell_type": "code",
      "execution_count": null,
      "metadata": {
        "id": "yFjNLgl4Hmcx"
      },
      "outputs": [],
      "source": [
        "from google.colab import drive\n",
        "drive.mount('/content/drive')"
      ]
    },
    {
      "cell_type": "code",
      "source": [
        "pip install optuna"
      ],
      "metadata": {
        "id": "cnTnwF7zHuON"
      },
      "execution_count": null,
      "outputs": []
    },
    {
      "cell_type": "code",
      "source": [
        "import numpy as np\n",
        "import pandas as pd\n",
        "import datetime\n",
        "import matplotlib.pyplot as plt\n",
        "import matplotlib.cm as cm\n",
        "%matplotlib inline\n",
        "\n",
        "import seaborn as sns\n",
        "sns.set_style(\"dark\")\n",
        "\n",
        "from sklearn import preprocessing\n",
        "from scipy.stats import skew, boxcox\n",
        "\n",
        "import warnings\n",
        "warnings.filterwarnings(\"ignore\")\n",
        "\n",
        "pd.set_option('display.max_columns', None)\n",
        "pd.set_option('display.max_rows', 20)\n",
        "pd.set_option('display.float_format', lambda x: '%.f' % x)\n",
        "pd.set_option('display.width', 170)\n",
        "\n",
        "import time\n",
        "import numpy as np\n",
        "import pandas as pd\n",
        "from matplotlib import pyplot as plt\n",
        "import seaborn as sns\n",
        "import lightgbm as lgb\n",
        "import warnings\n",
        "\n",
        "#pip install optuna\n",
        "import optuna\n",
        "\n",
        "\n",
        "pd.set_option('display.max_columns', None)\n",
        "pd.set_option('display.width', 500)\n",
        "warnings.filterwarnings('ignore')"
      ],
      "metadata": {
        "id": "mV8PHIKBHv13"
      },
      "execution_count": null,
      "outputs": []
    },
    {
      "cell_type": "code",
      "source": [
        "#Give the specified folder of given databases to load\n",
        "RM_place=\"/content/drive/MyDrive/Case_Task/Prorize/RentalMaster.txt\"\n",
        "UM_place= \"/content/drive/MyDrive/Case_Task/Prorize/UnitMaster.txt\"\n",
        "URM_place=\"/content/drive/MyDrive/Case_Task/Prorize/UnitRentMaster.txt\"\n",
        "\n",
        "\n",
        "#def load_dataframes(UM_place,URM_place,RM_place):\n",
        "RM = pd.read_csv(RM_place, delimiter ='\\s+', index_col=False)\n",
        "UM = pd.read_csv(UM_place, delimiter ='\\s+', index_col=False)\n",
        "URM = pd.read_csv(URM_place, delimiter ='\\s+', index_col=False)\n",
        "\n",
        "  #Check dataframes\n",
        "print(\"##################### UnitMaster #####################\")\n",
        "print(UM)\n",
        "print()\n",
        "print(\"##################### UnitRentMaster #####################\")\n",
        "print(URM)\n",
        "print()\n",
        "print(\"##################### RentalMaster #####################\")\n",
        "print(RM)\n"
      ],
      "metadata": {
        "id": "ysXsuFJJHyuc"
      },
      "execution_count": null,
      "outputs": []
    }
  ]
}